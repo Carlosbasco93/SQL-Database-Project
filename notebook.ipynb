{
 "cells": [
  {
   "cell_type": "code",
   "execution_count": 60,
   "id": "ecd61ba1",
   "metadata": {},
   "outputs": [],
   "source": [
    "# para gestionar ficheros\n",
    "import os\n",
    "import pathlib\n",
    "\n",
    "# para dataframes\n",
    "import pandas as pd\n",
    "import numpy as np\n",
    "\n",
    "# para pintar\n",
    "import pylab as plt\n",
    "import seaborn as sns\n",
    "## para que salga el grafico\n",
    "import matplotlib.pyplot as plt\n",
    "import squarify    \n",
    "\n",
    "%matplotlib inline\n",
    "\n",
    "# para la conexión SQL\n",
    "import mysql.connector as conn\n",
    "from sqlalchemy import create_engine\n",
    "\n",
    "# mis funciones para este proyect\n",
    "\n",
    "import src\n",
    "\n",
    "# display config\n",
    "pd.options.display.max_rows = None \n",
    "pd.options.display.max_columns = None"
   ]
  },
  {
   "cell_type": "code",
   "execution_count": null,
   "id": "ec6aa422",
   "metadata": {},
   "outputs": [],
   "source": [
    "dir_path = pathlib.Path('/Users/carlosbasco/Desktop/Projects/SQL-Database-Project/data')\n",
    "listaFicheros = os.listdir(dir_path) \n",
    "#Obtenemos todos los ficheros a leer"
   ]
  },
  {
   "cell_type": "code",
   "execution_count": null,
   "id": "8673cb4a",
   "metadata": {},
   "outputs": [],
   "source": [
    "dict_files = {}\n",
    "for fichero in dir_path.iterdir():\n",
    "    dict_files[fichero.name] = pd.read_csv(fichero.open(), encoding= \"UTF-8\")\n",
    "print(dict_files.keys(), len(dict_files.keys()))"
   ]
  },
  {
   "cell_type": "code",
   "execution_count": null,
   "id": "73a5358a",
   "metadata": {},
   "outputs": [],
   "source": [
    "#### LIMPIEZA PRIMER CSV ####\n",
    "df = dict_files['actor.csv'] "
   ]
  },
  {
   "cell_type": "code",
   "execution_count": null,
   "id": "53a6381e",
   "metadata": {},
   "outputs": [],
   "source": [
    "df.head()"
   ]
  },
  {
   "cell_type": "code",
   "execution_count": null,
   "id": "029f7b4d",
   "metadata": {},
   "outputs": [],
   "source": [
    "df.shape"
   ]
  },
  {
   "cell_type": "code",
   "execution_count": null,
   "id": "96b9f0ff",
   "metadata": {},
   "outputs": [],
   "source": [
    "df.info(memory_usage=\"deep\")"
   ]
  },
  {
   "cell_type": "code",
   "execution_count": null,
   "id": "6282cf5b",
   "metadata": {},
   "outputs": [],
   "source": [
    "df[\"full_name\"] = df.first_name + ' ' + df.last_name"
   ]
  },
  {
   "cell_type": "code",
   "execution_count": null,
   "id": "ad4fe272",
   "metadata": {},
   "outputs": [],
   "source": [
    "df.full_name.value_counts()"
   ]
  },
  {
   "cell_type": "code",
   "execution_count": null,
   "id": "65803aac",
   "metadata": {},
   "outputs": [],
   "source": [
    "df[df.full_name == 'SUSAN DAVIS']"
   ]
  },
  {
   "cell_type": "code",
   "execution_count": null,
   "id": "dda6f6b1",
   "metadata": {},
   "outputs": [],
   "source": [
    "df = df.drop(df.index[109]).reset_index(drop = True)"
   ]
  },
  {
   "cell_type": "code",
   "execution_count": null,
   "id": "260d72cd",
   "metadata": {},
   "outputs": [],
   "source": [
    "df[df.full_name == 'SUSAN DAVIS']"
   ]
  },
  {
   "cell_type": "code",
   "execution_count": null,
   "id": "ed2ce3d7",
   "metadata": {},
   "outputs": [],
   "source": [
    "src.eliminar_duplicados(df)"
   ]
  },
  {
   "cell_type": "code",
   "execution_count": null,
   "id": "a0aaf198",
   "metadata": {},
   "outputs": [],
   "source": [
    "df.last_update = src.normalizar_fechas(df.last_update)"
   ]
  },
  {
   "cell_type": "code",
   "execution_count": null,
   "id": "cda54031",
   "metadata": {},
   "outputs": [],
   "source": [
    "df.head()"
   ]
  },
  {
   "cell_type": "code",
   "execution_count": null,
   "id": "0ca1b62f",
   "metadata": {},
   "outputs": [],
   "source": [
    "dictio = zip(df.full_name,df.actor_id)\n",
    "leyenda_actores=dict(dictio) #Esta leyenda la usaremos más adelante"
   ]
  },
  {
   "cell_type": "code",
   "execution_count": null,
   "id": "763c0802",
   "metadata": {},
   "outputs": [],
   "source": [
    "leyenda_actores"
   ]
  },
  {
   "cell_type": "code",
   "execution_count": null,
   "id": "e9ec607c",
   "metadata": {},
   "outputs": [],
   "source": [
    "src.downcast_types(df)"
   ]
  },
  {
   "cell_type": "code",
   "execution_count": null,
   "id": "a9556d81",
   "metadata": {},
   "outputs": [],
   "source": [
    "df.info()"
   ]
  },
  {
   "cell_type": "code",
   "execution_count": null,
   "id": "d39fb559",
   "metadata": {},
   "outputs": [],
   "source": [
    "dict_files['actor.csv'] = df"
   ]
  },
  {
   "cell_type": "code",
   "execution_count": null,
   "id": "2871f7d0",
   "metadata": {},
   "outputs": [],
   "source": [
    "#### LIMPIEZA SEGUNDO CSV ####\n",
    "df = dict_files['film.csv']"
   ]
  },
  {
   "cell_type": "code",
   "execution_count": null,
   "id": "15b868db",
   "metadata": {},
   "outputs": [],
   "source": [
    "df.head()"
   ]
  },
  {
   "cell_type": "code",
   "execution_count": null,
   "id": "aa72b83e",
   "metadata": {},
   "outputs": [],
   "source": [
    "src.eliminar_duplicados(df)"
   ]
  },
  {
   "cell_type": "code",
   "execution_count": null,
   "id": "6d75c87a",
   "metadata": {},
   "outputs": [],
   "source": [
    "df.info()"
   ]
  },
  {
   "cell_type": "code",
   "execution_count": null,
   "id": "756195f3",
   "metadata": {},
   "outputs": [],
   "source": [
    "df = df.drop(['original_language_id'], axis=1)\n",
    "df.head()"
   ]
  },
  {
   "cell_type": "code",
   "execution_count": null,
   "id": "d01edd1c",
   "metadata": {},
   "outputs": [],
   "source": [
    "df.rating.unique()"
   ]
  },
  {
   "cell_type": "code",
   "execution_count": null,
   "id": "f7662c54",
   "metadata": {},
   "outputs": [],
   "source": [
    "dictio = zip(df.title, df.film_id)\n",
    "leyenda_films=dict(dictio) #Esta leyenda la usaremos más adelante"
   ]
  },
  {
   "cell_type": "code",
   "execution_count": null,
   "id": "28eaa54b",
   "metadata": {},
   "outputs": [],
   "source": [
    "df.last_update = src.normalizar_fechas(df.last_update)"
   ]
  },
  {
   "cell_type": "code",
   "execution_count": null,
   "id": "2910f1d7",
   "metadata": {},
   "outputs": [],
   "source": [
    "src.downcast_types(df)"
   ]
  },
  {
   "cell_type": "code",
   "execution_count": null,
   "id": "2dc946a1",
   "metadata": {},
   "outputs": [],
   "source": [
    "df.info()"
   ]
  },
  {
   "cell_type": "code",
   "execution_count": null,
   "id": "e3cdd603",
   "metadata": {},
   "outputs": [],
   "source": [
    "dict_files['film.csv'] = df"
   ]
  },
  {
   "cell_type": "code",
   "execution_count": null,
   "id": "9f11118c",
   "metadata": {},
   "outputs": [],
   "source": [
    "#### LIMPIEZA TERCER CSV ####\n",
    "df = dict_files['language.csv']"
   ]
  },
  {
   "cell_type": "code",
   "execution_count": null,
   "id": "302a8cad",
   "metadata": {},
   "outputs": [],
   "source": [
    "df"
   ]
  },
  {
   "cell_type": "code",
   "execution_count": null,
   "id": "24ee6695",
   "metadata": {},
   "outputs": [],
   "source": [
    "df.last_update = src.normalizar_fechas(df.last_update)"
   ]
  },
  {
   "cell_type": "code",
   "execution_count": null,
   "id": "32087ce9",
   "metadata": {},
   "outputs": [],
   "source": [
    "df.head(10)"
   ]
  },
  {
   "cell_type": "code",
   "execution_count": null,
   "id": "570f9126",
   "metadata": {},
   "outputs": [],
   "source": [
    "src.downcast_types(df)"
   ]
  },
  {
   "cell_type": "code",
   "execution_count": null,
   "id": "4b4c4d69",
   "metadata": {},
   "outputs": [],
   "source": [
    "dict_files['language.csv'] = df"
   ]
  },
  {
   "cell_type": "code",
   "execution_count": null,
   "id": "0a121838",
   "metadata": {},
   "outputs": [],
   "source": [
    "#### LIMPIEZA CUARTO CSV ####\n",
    "df = dict_files['old_HDD.csv']"
   ]
  },
  {
   "cell_type": "code",
   "execution_count": null,
   "id": "e1d83c5f",
   "metadata": {},
   "outputs": [],
   "source": [
    "df.head(15) #Vamos a usar el autor_id y el title_id en lugar de tener columnas duplicadas con la informacion category_id\n"
   ]
  },
  {
   "cell_type": "code",
   "execution_count": null,
   "id": "d6f04d46",
   "metadata": {},
   "outputs": [],
   "source": [
    "df[\"full_name\"]=df.first_name + ' ' + df.last_name"
   ]
  },
  {
   "cell_type": "code",
   "execution_count": null,
   "id": "9395469c",
   "metadata": {},
   "outputs": [],
   "source": [
    "df.replace({\"title\":leyenda_films}, inplace=True)\n",
    "df.replace({\"full_name\":leyenda_actores}, inplace=True)\n",
    "df.rename(columns = {'title':'film_id', 'full_name':'actor_id'}, inplace = True)"
   ]
  },
  {
   "cell_type": "code",
   "execution_count": null,
   "id": "38c5e0e7",
   "metadata": {},
   "outputs": [],
   "source": [
    "df = df.drop(['first_name','last_name','release_year'], axis=1)"
   ]
  },
  {
   "cell_type": "code",
   "execution_count": null,
   "id": "678030b4",
   "metadata": {},
   "outputs": [],
   "source": [
    "df"
   ]
  },
  {
   "cell_type": "code",
   "execution_count": null,
   "id": "51055b17",
   "metadata": {},
   "outputs": [],
   "source": [
    "src.eliminar_duplicados(df)"
   ]
  },
  {
   "cell_type": "code",
   "execution_count": null,
   "id": "41e62688",
   "metadata": {},
   "outputs": [],
   "source": [
    "src.downcast_types(df)"
   ]
  },
  {
   "cell_type": "code",
   "execution_count": null,
   "id": "a43a7a95",
   "metadata": {},
   "outputs": [],
   "source": [
    "df.info()"
   ]
  },
  {
   "cell_type": "code",
   "execution_count": null,
   "id": "7581f512",
   "metadata": {},
   "outputs": [],
   "source": [
    "dict_files['old_HDD.csv'] = df"
   ]
  },
  {
   "cell_type": "code",
   "execution_count": null,
   "id": "c46eb989",
   "metadata": {},
   "outputs": [],
   "source": [
    "#### LIMPIEZA QUINTO CSV ####\n",
    "df = dict_files['category.csv']"
   ]
  },
  {
   "cell_type": "code",
   "execution_count": null,
   "id": "a8fc4140",
   "metadata": {},
   "outputs": [],
   "source": [
    "df.head(20)"
   ]
  },
  {
   "cell_type": "code",
   "execution_count": null,
   "id": "3944feec",
   "metadata": {},
   "outputs": [],
   "source": [
    "df.category_id.unique()"
   ]
  },
  {
   "cell_type": "code",
   "execution_count": null,
   "id": "80d88ba0",
   "metadata": {},
   "outputs": [],
   "source": [
    "df.last_update = src.normalizar_fechas(df.last_update)\n",
    "src.downcast_types(df)"
   ]
  },
  {
   "cell_type": "code",
   "execution_count": null,
   "id": "d1e382fa",
   "metadata": {},
   "outputs": [],
   "source": [
    "df.head(20)"
   ]
  },
  {
   "cell_type": "code",
   "execution_count": null,
   "id": "5355a567",
   "metadata": {},
   "outputs": [],
   "source": [
    "dict_files['category.csv'] = df"
   ]
  },
  {
   "cell_type": "code",
   "execution_count": null,
   "id": "17f19074",
   "metadata": {},
   "outputs": [],
   "source": [
    "#### LIMPIEZA SEXTO CSV ####\n",
    "df = dict_files['rental.csv'] # Sacar cuanto tiempo tardan en devolver las películas y si vuelven o no los customers"
   ]
  },
  {
   "cell_type": "code",
   "execution_count": null,
   "id": "2ce2ec44",
   "metadata": {},
   "outputs": [],
   "source": [
    "df.head(100)"
   ]
  },
  {
   "cell_type": "code",
   "execution_count": null,
   "id": "5ac0d9bc",
   "metadata": {},
   "outputs": [],
   "source": [
    "src.eliminar_duplicados(df)"
   ]
  },
  {
   "cell_type": "code",
   "execution_count": null,
   "id": "75fd4e05",
   "metadata": {},
   "outputs": [],
   "source": [
    "df = df.drop(['last_update'], axis=1)"
   ]
  },
  {
   "cell_type": "code",
   "execution_count": null,
   "id": "d135331c",
   "metadata": {},
   "outputs": [],
   "source": [
    "df.info()"
   ]
  },
  {
   "cell_type": "code",
   "execution_count": null,
   "id": "8a896b10",
   "metadata": {},
   "outputs": [],
   "source": [
    "df.rental_date = src.normalizar_fechas(df.rental_date)\n",
    "df.return_date = src.normalizar_fechas(df.return_date)"
   ]
  },
  {
   "cell_type": "code",
   "execution_count": null,
   "id": "b02d244f",
   "metadata": {},
   "outputs": [],
   "source": [
    "src.downcast_types(df)"
   ]
  },
  {
   "cell_type": "code",
   "execution_count": null,
   "id": "bf2dcff8",
   "metadata": {},
   "outputs": [],
   "source": [
    "df.info()"
   ]
  },
  {
   "cell_type": "code",
   "execution_count": null,
   "id": "3eea6b33",
   "metadata": {},
   "outputs": [],
   "source": [
    "dict_files['rental.csv'] = df"
   ]
  },
  {
   "cell_type": "code",
   "execution_count": null,
   "id": "bd3d65dd",
   "metadata": {},
   "outputs": [],
   "source": [
    "#### LIMPIEZA SEPTIMO CSV ####\n",
    "df = dict_files['inventory.csv']"
   ]
  },
  {
   "cell_type": "code",
   "execution_count": null,
   "id": "7792cf6c",
   "metadata": {},
   "outputs": [],
   "source": [
    "df.head(100)"
   ]
  },
  {
   "cell_type": "code",
   "execution_count": null,
   "id": "9c1e46f1",
   "metadata": {},
   "outputs": [],
   "source": [
    "df.shape"
   ]
  },
  {
   "cell_type": "code",
   "execution_count": null,
   "id": "c4981e58",
   "metadata": {},
   "outputs": [],
   "source": [
    "src.eliminar_duplicados(df)"
   ]
  },
  {
   "cell_type": "code",
   "execution_count": null,
   "id": "d4943bf0",
   "metadata": {},
   "outputs": [],
   "source": [
    "df.last_update = src.normalizar_fechas(df.last_update)"
   ]
  },
  {
   "cell_type": "code",
   "execution_count": null,
   "id": "b2996c21",
   "metadata": {},
   "outputs": [],
   "source": [
    "src.downcast_types(df)"
   ]
  },
  {
   "cell_type": "code",
   "execution_count": null,
   "id": "5b7699e4",
   "metadata": {},
   "outputs": [],
   "source": [
    "df.info()"
   ]
  },
  {
   "cell_type": "code",
   "execution_count": null,
   "id": "4d4527ff",
   "metadata": {},
   "outputs": [],
   "source": [
    "df = df.drop(['inventory_id',], axis=1)"
   ]
  },
  {
   "cell_type": "code",
   "execution_count": null,
   "id": "7ebddd20",
   "metadata": {},
   "outputs": [],
   "source": [
    "df"
   ]
  },
  {
   "cell_type": "code",
   "execution_count": null,
   "id": "76d85122",
   "metadata": {},
   "outputs": [],
   "source": [
    "#df = df.groupby(df.store_id).value_counts() #RECORDATORIO Agruparemos las películas por almacen\n",
    "df.reset_index()"
   ]
  },
  {
   "cell_type": "code",
   "execution_count": null,
   "id": "29dbbab6",
   "metadata": {},
   "outputs": [],
   "source": [
    "dict_files['inventory.csv'] = df"
   ]
  },
  {
   "cell_type": "code",
   "execution_count": 2,
   "id": "381bce9b",
   "metadata": {},
   "outputs": [],
   "source": [
    "#### CONEXION ####\n",
    "\n",
    "with open(\"pass/password.txt\") as archivo:\n",
    "    host_line = archivo.readline().rstrip('\\n')\n",
    "    user_line = archivo.readline().rstrip('\\n')\n",
    "    passwd_line = archivo.readline().rstrip('\\n')"
   ]
  },
  {
   "cell_type": "code",
   "execution_count": null,
   "id": "93e7257f",
   "metadata": {},
   "outputs": [],
   "source": [
    "#### CREAMOS UNA NUEVA BASE DE DATOS ####\n",
    "\n",
    "str_conn='mysql+pymysql://'+user_line+':'+passwd_line+'@'+host_line+':3306'\n",
    "\n",
    "cursor=create_engine(str_conn)\n",
    "\n",
    "cursor.execute('drop database if exists video_store;')\n",
    "cursor.execute('create database video_store;')"
   ]
  },
  {
   "cell_type": "code",
   "execution_count": null,
   "id": "1bf5c193",
   "metadata": {},
   "outputs": [],
   "source": [
    "#### GENERAMOS LAS TABLAS DE SQL ####\n",
    "\n",
    "str_conn='mysql+pymysql://'+user_line+':'+passwd_line+'@'+host_line+':3306'+'/video_store'\n",
    "\n",
    "cursor=create_engine(str_conn)\n",
    "\n",
    "for element in dict_files:\n",
    "    name_aux = (element.split('.'))[0]\n",
    "    dict_files[element].to_sql(name=name_aux, con=cursor, if_exists='replace', index=False)"
   ]
  },
  {
   "cell_type": "code",
   "execution_count": null,
   "id": "adb8956c",
   "metadata": {},
   "outputs": [],
   "source": [
    "#### RELACIONES DE LAS TABLAS ####\n",
    "\n",
    "lista_querys = ['ALTER TABLE `video_store`.`category` CHANGE COLUMN `category_id` `category_id` SMALLINT NOT NULL ,ADD PRIMARY KEY (`category_id`);',\n",
    "                'ALTER TABLE `video_store`.`actor` CHANGE COLUMN `actor_id` `actor_id` SMALLINT NOT NULL ,ADD PRIMARY KEY (`actor_id`)',\n",
    "                'ALTER TABLE `video_store`.`film` CHANGE COLUMN `film_id` `film_id` SMALLINT NOT NULL ,ADD PRIMARY KEY (`film_id`),ADD INDEX `language_id_idx` (`language_id` ASC) VISIBLE;;',\n",
    "                'ALTER TABLE `video_store`.`language` CHANGE COLUMN `language_id` `language_id` SMALLINT NOT NULL ,ADD PRIMARY KEY (`language_id`);',\n",
    "                'ALTER TABLE `video_store`.`film` ADD CONSTRAINT `language_id`  FOREIGN KEY (`language_id`)  REFERENCES `video_store`.`language` (`language_id`)  ON DELETE NO ACTION  ON UPDATE NO ACTION;',\n",
    "                'ALTER TABLE `video_store`.`inventory` ADD INDEX `film_id_idx` (`film_id` ASC) VISIBLE;',\n",
    "                'ALTER TABLE `video_store`.`inventory` ADD CONSTRAINT `film_id`  FOREIGN KEY (`film_id`)  REFERENCES `video_store`.`film` (`film_id`)  ON DELETE NO ACTION  ON UPDATE NO ACTION;',\n",
    "                'ALTER TABLE `video_store`.`old_HDD` ADD INDEX `film_id_idx` (`film_id` ASC) VISIBLE,ADD INDEX `category_id_idx` (`category_id` ASC) VISIBLE,ADD INDEX `actor_id_idx` (`actor_id` ASC) VISIBLE;',\n",
    "                'ALTER TABLE `video_store`.`old_HDD` ADD CONSTRAINT `film_id_2`  FOREIGN KEY (`film_id`)  REFERENCES `video_store`.`film` (`film_id`)  ON DELETE NO ACTION ON UPDATE NO ACTION,ADD CONSTRAINT `category_id`  FOREIGN KEY (`category_id`)REFERENCES `video_store`.`category` (`category_id`)  ON DELETE NO ACTION  ON UPDATE NO ACTION,ADD CONSTRAINT `actor_id`  FOREIGN KEY (`actor_id`)  REFERENCES `video_store`.`actor` (`actor_id`)  ON DELETE NO ACTION ON UPDATE NO ACTION;'\n",
    "               ]"
   ]
  },
  {
   "cell_type": "code",
   "execution_count": null,
   "id": "0e466c3a",
   "metadata": {},
   "outputs": [],
   "source": [
    "for query in lista_querys:\n",
    "    cursor.execute(query)"
   ]
  },
  {
   "cell_type": "code",
   "execution_count": 61,
   "id": "0cf52e4e",
   "metadata": {},
   "outputs": [],
   "source": [
    "#### Obtenemos la data de algunas querys para pintar graficos ####\n",
    "str_conn='mysql+pymysql://'+user_line+':'+passwd_line+'@'+host_line+':3306'+'/video_store'\n",
    "\n",
    "cursor=create_engine(str_conn)\n",
    "\n",
    "aux = pd.DataFrame.from_records(cursor.execute('select c.name as Category, count(c.name) as Count, count(c.name)/1000*100 as Percent from film as f inner join old_HDD as o on o.film_id = f.film_id inner join category as c on c.category_id = o.category_id group by c.name;'))"
   ]
  },
  {
   "cell_type": "code",
   "execution_count": 62,
   "id": "2941ab71",
   "metadata": {},
   "outputs": [],
   "source": [
    "aux.columns = ['Category', 'Num.Films', 'Percent']"
   ]
  },
  {
   "cell_type": "code",
   "execution_count": 90,
   "id": "129e2cf3",
   "metadata": {},
   "outputs": [],
   "source": [
    "aux.index = aux.Category\n",
    "aux = aux.drop(['Category'], axis = 1)"
   ]
  },
  {
   "cell_type": "code",
   "execution_count": 91,
   "id": "45a7ff7f",
   "metadata": {},
   "outputs": [
    {
     "data": {
      "text/html": [
       "<div>\n",
       "<style scoped>\n",
       "    .dataframe tbody tr th:only-of-type {\n",
       "        vertical-align: middle;\n",
       "    }\n",
       "\n",
       "    .dataframe tbody tr th {\n",
       "        vertical-align: top;\n",
       "    }\n",
       "\n",
       "    .dataframe thead th {\n",
       "        text-align: right;\n",
       "    }\n",
       "</style>\n",
       "<table border=\"1\" class=\"dataframe\">\n",
       "  <thead>\n",
       "    <tr style=\"text-align: right;\">\n",
       "      <th></th>\n",
       "      <th>Num.Films</th>\n",
       "      <th>Percent</th>\n",
       "    </tr>\n",
       "    <tr>\n",
       "      <th>Category</th>\n",
       "      <th></th>\n",
       "      <th></th>\n",
       "    </tr>\n",
       "  </thead>\n",
       "  <tbody>\n",
       "    <tr>\n",
       "      <th>Action</th>\n",
       "      <td>77</td>\n",
       "      <td>7.7000</td>\n",
       "    </tr>\n",
       "    <tr>\n",
       "      <th>Animation</th>\n",
       "      <td>75</td>\n",
       "      <td>7.5000</td>\n",
       "    </tr>\n",
       "    <tr>\n",
       "      <th>Children</th>\n",
       "      <td>62</td>\n",
       "      <td>6.2000</td>\n",
       "    </tr>\n",
       "    <tr>\n",
       "      <th>Classics</th>\n",
       "      <td>55</td>\n",
       "      <td>5.5000</td>\n",
       "    </tr>\n",
       "    <tr>\n",
       "      <th>Comedy</th>\n",
       "      <td>46</td>\n",
       "      <td>4.6000</td>\n",
       "    </tr>\n",
       "    <tr>\n",
       "      <th>Documentary</th>\n",
       "      <td>72</td>\n",
       "      <td>7.2000</td>\n",
       "    </tr>\n",
       "    <tr>\n",
       "      <th>Drama</th>\n",
       "      <td>74</td>\n",
       "      <td>7.4000</td>\n",
       "    </tr>\n",
       "    <tr>\n",
       "      <th>Family</th>\n",
       "      <td>57</td>\n",
       "      <td>5.7000</td>\n",
       "    </tr>\n",
       "    <tr>\n",
       "      <th>Foreign</th>\n",
       "      <td>64</td>\n",
       "      <td>6.4000</td>\n",
       "    </tr>\n",
       "    <tr>\n",
       "      <th>Games</th>\n",
       "      <td>38</td>\n",
       "      <td>3.8000</td>\n",
       "    </tr>\n",
       "    <tr>\n",
       "      <th>Horror</th>\n",
       "      <td>64</td>\n",
       "      <td>6.4000</td>\n",
       "    </tr>\n",
       "    <tr>\n",
       "      <th>Music</th>\n",
       "      <td>54</td>\n",
       "      <td>5.4000</td>\n",
       "    </tr>\n",
       "    <tr>\n",
       "      <th>New</th>\n",
       "      <td>73</td>\n",
       "      <td>7.3000</td>\n",
       "    </tr>\n",
       "    <tr>\n",
       "      <th>Sci-Fi</th>\n",
       "      <td>58</td>\n",
       "      <td>5.8000</td>\n",
       "    </tr>\n",
       "    <tr>\n",
       "      <th>Sports</th>\n",
       "      <td>79</td>\n",
       "      <td>7.9000</td>\n",
       "    </tr>\n",
       "    <tr>\n",
       "      <th>Travel</th>\n",
       "      <td>52</td>\n",
       "      <td>5.2000</td>\n",
       "    </tr>\n",
       "  </tbody>\n",
       "</table>\n",
       "</div>"
      ],
      "text/plain": [
       "             Num.Films Percent\n",
       "Category                      \n",
       "Action              77  7.7000\n",
       "Animation           75  7.5000\n",
       "Children            62  6.2000\n",
       "Classics            55  5.5000\n",
       "Comedy              46  4.6000\n",
       "Documentary         72  7.2000\n",
       "Drama               74  7.4000\n",
       "Family              57  5.7000\n",
       "Foreign             64  6.4000\n",
       "Games               38  3.8000\n",
       "Horror              64  6.4000\n",
       "Music               54  5.4000\n",
       "New                 73  7.3000\n",
       "Sci-Fi              58  5.8000\n",
       "Sports              79  7.9000\n",
       "Travel              52  5.2000"
      ]
     },
     "execution_count": 91,
     "metadata": {},
     "output_type": "execute_result"
    }
   ],
   "source": [
    "aux"
   ]
  },
  {
   "cell_type": "code",
   "execution_count": 115,
   "id": "0c0af2be",
   "metadata": {},
   "outputs": [
    {
     "data": {
      "image/png": "[encoded data removed]",
      "text/plain": [
       "<Figure size 1080x576 with 1 Axes>"
      ]
     },
     "metadata": {
      "needs_background": "light"
     },
     "output_type": "display_data"
    }
   ],
   "source": [
    "#Tree map\n",
    "plt.figure(figsize=(15,8))\n",
    "squarify.plot(sizes=aux['Num.Films'], label=aux.index, alpha=.5 )\n",
    "plt.axis('off')\n",
    "plt.show()"
   ]
  },
  {
   "cell_type": "code",
   "execution_count": 114,
   "id": "2c7ea364",
   "metadata": {},
   "outputs": [
    {
     "data": {
      "image/png": "[encoded data removed]",
      "text/plain": [
       "<Figure size 1080x576 with 1 Axes>"
      ]
     },
     "metadata": {
      "needs_background": "light"
     },
     "output_type": "display_data"
    }
   ],
   "source": [
    "#Plot bar\n",
    "plt.figure(figsize=(15,8))\n",
    "\n",
    "aux[\"Num.Films\"].plot.bar(rot=45);\n",
    "plt.ylabel('Num_films');"
   ]
  }
 ],
 "metadata": {
  "kernelspec": {
   "display_name": "Python 3 (ipykernel)",
   "language": "python",
   "name": "python3"
  },
  "language_info": {
   "codemirror_mode": {
    "name": "ipython",
    "version": 3
   },
   "file_extension": ".py",
   "mimetype": "text/x-python",
   "name": "python",
   "nbconvert_exporter": "python",
   "pygments_lexer": "ipython3",
   "version": "3.9.12"
  }
 },
 "nbformat": 4,
 "nbformat_minor": 5
}
